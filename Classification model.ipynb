{
 "cells": [
  {
   "cell_type": "code",
   "execution_count": null,
   "metadata": {},
   "outputs": [],
   "source": [
    "#https://www.kaggle.com/kazanova/sentiment140 - another dataset\n",
    "import numpy as np\n",
    "import itertools\n",
    "import pandas as pd\n",
    "from sklearn.model_selection import StratifiedShuffleSplit, train_test_split\n",
    "from sklearn import feature_extraction\n",
    "from sklearn import feature_extraction\n",
    "from sklearn.feature_extraction.text import CountVectorizer\n",
    "from sklearn.feature_extraction.text import TfidfTransformer\n",
    "from xgboost import XGBClassifier\n",
    "from sklearn.metrics import accuracy_score\n",
    "import matplotlib\n",
    "import numpy as np\n",
    "import matplotlib.pyplot as plt\n",
    "%matplotlib inline\n",
    "import cufflinks as cf\n",
    "import plotly.offline as offline\n",
    "from nltk.corpus import stopwords\n",
    "from sklearn.metrics import classification_report, confusion_matrix\n",
    "cf.go_offline()\n",
    "offline.init_notebook_mode()\n",
    "from collections import Counter\n",
    "# from sklearn import metrics #cross_validation,   #Additional scklearn functions\n",
    "from sklearn.model_selection import GridSearchCV   #Perforing grid search"
   ]
  },
  {
   "cell_type": "code",
   "execution_count": null,
   "metadata": {},
   "outputs": [],
   "source": [
    "def plot_confusion_matrix(cm, classes,\n",
    "                          normalize=False,\n",
    "                          title='Confusion matrix',\n",
    "                          cmap=plt.cm.Blues):\n",
    "    \"\"\"\n",
    "    This function prints and plots the confusion matrix.\n",
    "    Normalization can be applied by setting `normalize=True`.\n",
    "    \"\"\"\n",
    "    if normalize:\n",
    "        cm = cm.astype('float') / cm.sum(axis=1)[:, np.newaxis]\n",
    "        print(\"Normalized confusion matrix\")\n",
    "    else:\n",
    "        print('Confusion matrix, without normalization')\n",
    "\n",
    "    print(cm)\n",
    "\n",
    "    plt.imshow(cm, interpolation='nearest', cmap=cmap)\n",
    "    plt.title(title)\n",
    "    plt.colorbar()\n",
    "    tick_marks = np.arange(len(classes))\n",
    "    plt.xticks(tick_marks, classes, rotation=45)\n",
    "    plt.yticks(tick_marks, classes)\n",
    "\n",
    "    fmt = '.2f' if normalize else 'd'\n",
    "    thresh = cm.max() / 2.\n",
    "    for i, j in itertools.product(range(cm.shape[0]), range(cm.shape[1])):\n",
    "        plt.text(j, i, format(cm[i, j], fmt),\n",
    "                 horizontalalignment=\"center\",\n",
    "                 color=\"white\" if cm[i, j] > thresh else \"black\")\n",
    "\n",
    "    plt.ylabel('True label')\n",
    "    plt.xlabel('Predicted label')\n",
    "    plt.tight_layout()"
   ]
  },
  {
   "cell_type": "code",
   "execution_count": null,
   "metadata": {},
   "outputs": [],
   "source": [
    "# train = pd.read_pickle('test_clean.pkl')\n",
    "# test = pd.read_pickle('train_clean.pkl')\n",
    "train = pd.read_pickle('test_clean_old.pkl')\n",
    "test = pd.read_pickle('train_clean_old.pkl')"
   ]
  },
  {
   "cell_type": "code",
   "execution_count": null,
   "metadata": {},
   "outputs": [],
   "source": [
    "# value_countrs_df = test['SentimentText'].apply(lambda x: pd.value_counts(x.split(\" \"))).sum(axis = 0).sort_values(ascending=False)\n",
    "# value_countrs_df[:50].iplot(kind='bar')\n",
    "counter = Counter()\n",
    "stoplist = stopwords.words('english')\n",
    "for index, row in test.iterrows():\n",
    "    for word in row['SentimentText'].split():\n",
    "        if word not in stoplist:\n",
    "            counter[word] += 1\n",
    "# counter.most_common(30)"
   ]
  },
  {
   "cell_type": "code",
   "execution_count": null,
   "metadata": {},
   "outputs": [],
   "source": [
    "counter_df = pd.DataFrame.from_dict(counter, orient='index').sort_values(by=0, ascending=False)\n",
    "counter_df.iloc[:30].iplot(kind='bar')"
   ]
  },
  {
   "cell_type": "code",
   "execution_count": null,
   "metadata": {},
   "outputs": [],
   "source": [
    "counter_df.shape"
   ]
  },
  {
   "cell_type": "code",
   "execution_count": null,
   "metadata": {},
   "outputs": [],
   "source": [
    "vectorizer = CountVectorizer(stop_words='english') # token_pattern can be provided to clarify tags\n",
    "# Here we received a sparse matrix of 1 and 0s\n",
    "# tfidf_transformer = TfidfTransformer()\n",
    "# vectorized_text = tfidf_transformer.fit_transform(vectorizer.fit_transform(test['SentimentText'].values))\n",
    "# an article for TF/IDF: https://medium.freecodecamp.org/how-to-process-textual-data-using-tf-idf-in-python-cd2bbc0a94a3\n",
    "vectorized_text = vectorizer.fit_transform(test['SentimentText'].values)"
   ]
  },
  {
   "cell_type": "code",
   "execution_count": null,
   "metadata": {},
   "outputs": [],
   "source": [
    "from IPython.display import Image\n",
    "Image(\"count_vectorizer_tf_idf.jpeg\")"
   ]
  },
  {
   "cell_type": "code",
   "execution_count": null,
   "metadata": {},
   "outputs": [],
   "source": [
    "test.head(10) # Preprocessing/feature extraction/feature engineering process can be improved, other features can be encoded with one hot encoding\n",
    "# label encoding"
   ]
  },
  {
   "cell_type": "code",
   "execution_count": null,
   "metadata": {},
   "outputs": [],
   "source": [
    "X = vectorized_text\n",
    "y = test['Sentiment']\n",
    "x_train, x_test, y_train, y_test = train_test_split(X, y, test_size=.2, train_size=.8, stratify=y)"
   ]
  },
  {
   "cell_type": "code",
   "execution_count": null,
   "metadata": {},
   "outputs": [],
   "source": [
    "# Todo add grid search or smth like that to optimize\n",
    "# An article for the explanation: https://xgboost.readthedocs.io/en/latest/tutorials/model.html\n",
    "# Random forest trees explanation: https://towardsdatascience.com/enchanted-random-forest-b08d418cb411\n",
    "model = XGBClassifier(n_estimators=150, learning_rate=0.3, max_depth=20)\n",
    "model.fit(x_train, y_train)"
   ]
  },
  {
   "cell_type": "code",
   "execution_count": null,
   "metadata": {},
   "outputs": [],
   "source": [
    "cnf_matrix = confusion_matrix(y_test, y_pred)\n",
    "class_names = y.unique()\n",
    "plt.figure()\n",
    "plot_confusion_matrix(cnf_matrix, classes=class_names,\n",
    "                      title='Confusion matrix, without normalization')"
   ]
  },
  {
   "cell_type": "code",
   "execution_count": null,
   "metadata": {},
   "outputs": [],
   "source": [
    "y_pred = model.predict(x_test)\n",
    "predictions = [round(value) for value in y_pred]"
   ]
  },
  {
   "cell_type": "code",
   "execution_count": null,
   "metadata": {},
   "outputs": [],
   "source": [
    "accuracy = accuracy_score(y_test, predictions)\n",
    "print(\"Accuracy: %.2f%%\" % (accuracy * 100.0))"
   ]
  },
  {
   "cell_type": "code",
   "execution_count": null,
   "metadata": {},
   "outputs": [],
   "source": [
    "# https://www.kdnuggets.com/2016/06/regularization-logistic-regression.html\n",
    "# http://scikit-learn.org/stable/modules/generated/sklearn.linear_model.LogisticRegression.html + regularization"
   ]
  },
  {
   "cell_type": "code",
   "execution_count": null,
   "metadata": {},
   "outputs": [],
   "source": [
    "param_test1 = {\n",
    " 'max_depth': np.arange(3,30,2),\n",
    " 'min_child_weight': np.arange(1,6,2),\n",
    " 'n_estimators': np.arange(90,170,10),\n",
    " 'learning_rate': np.arange(0.1, 0.4, 0.1),\n",
    "}\n",
    "gsearch = GridSearchCV(estimator = XGBClassifier(learning_rate=0.1, n_estimators=140, max_depth=5,\n",
    " min_child_weight=1, gamma=0, subsample=0.8, colsample_bytree=0.8,\n",
    " objective='binary:logistic', scale_pos_weight=1, seed=27), \n",
    " param_grid=param_test1, scoring='roc_auc',n_jobs=-1, iid=False, cv=5)\n",
    "gsearch.fit(x_train, y_train)"
   ]
  },
  {
   "cell_type": "code",
   "execution_count": null,
   "metadata": {},
   "outputs": [],
   "source": [
    "gsearch.best_score_, gsearch.best_params_, gsearch.best_score_, gsearch.score"
   ]
  },
  {
   "cell_type": "markdown",
   "metadata": {},
   "source": [
    "(0.7932173620974299,\n",
    " {'learning_rate': 0.2,\n",
    "  'max_depth': 29,\n",
    "  'min_child_weight': 1,\n",
    "  'n_estimators': 150},\n",
    " 0.7932173620974299,\n",
    " <bound method BaseSearchCV.score of GridSearchCV(cv=5, error_score='raise',\n",
    "        estimator=XGBClassifier(base_score=0.5, booster='gbtree', colsample_bylevel=1,\n",
    "        colsample_bytree=0.8, gamma=0, learning_rate=0.1, max_delta_step=0,\n",
    "        max_depth=5, min_child_weight=1, missing=None, n_estimators=140,\n",
    "        n_jobs=1, nthread=None, objective='binary:logistic', random_state=0,\n",
    "        reg_alpha=0, reg_lambda=1, scale_pos_weight=1, seed=27, silent=True,\n",
    "        subsample=0.8),\n",
    "        fit_params=None, iid=False, n_jobs=-1,\n",
    "        param_grid={'max_depth': range(3, 30, 2), 'learning_rate': array([0.1, 0.2, 0.3, 0.4]), 'min_child_weight': range(1, 6, 2), 'n_estimators': range(90, 170, 10)},\n",
    "        pre_dispatch='2*n_jobs', refit=True, return_train_score='warn',\n",
    "        scoring='roc_auc', verbose=0)>)"
   ]
  },
  {
   "cell_type": "markdown",
   "metadata": {},
   "source": [
    "## Check if we have overfit on the test dataset\n",
    "Another approach is to have 3 datasets initially, train, test, validate"
   ]
  },
  {
   "cell_type": "code",
   "execution_count": null,
   "metadata": {},
   "outputs": [],
   "source": [
    "from sklearn.model_selection import cross_val_score\n",
    "clf = XGBClassifier(learning_rate=0.2, n_estimators=150, max_depth=100,\n",
    " min_child_weight=1, gamma=0, subsample=0.8, colsample_bytree=0.8,\n",
    " objective='binary:logistic', scale_pos_weight=1, seed=270)\n",
    "# model.fit(x_train, y_train)\n",
    "\n",
    "scores = cross_val_score(clf, X, y, cv=5, scoring='f1_macro')\n",
    "scores"
   ]
  },
  {
   "cell_type": "code",
   "execution_count": null,
   "metadata": {},
   "outputs": [],
   "source": [
    "print(\"Accuracy: %0.2f (+/- %0.2f)\" % (scores.mean(), scores.std() * 2))"
   ]
  },
  {
   "cell_type": "code",
   "execution_count": null,
   "metadata": {},
   "outputs": [],
   "source": [
    "# K-fold cross-validation https://machinelearningmastery.com/k-fold-cross-validation/\n",
    "# Add a validation dataset not to have an overfit on test."
   ]
  },
  {
   "cell_type": "code",
   "execution_count": null,
   "metadata": {},
   "outputs": [],
   "source": [
    "grid_predictions = gsearch.predict(x_test)\n",
    "print(confusion_matrix(y_test,grid_predictions))\n",
    "print(classification_report(y_test,grid_predictions))\n",
    "# https://machinelearningmastery.com/tune-number-size-decision-trees-xgboost-python/"
   ]
  },
  {
   "cell_type": "code",
   "execution_count": null,
   "metadata": {},
   "outputs": [],
   "source": [
    "Image(\"metrics.png\")\n",
    "# support - is number of sampels per class\n",
    "# http://scikit-learn.org/stable/modules/generated/sklearn.metrics.classification_report.html"
   ]
  },
  {
   "cell_type": "code",
   "execution_count": null,
   "metadata": {},
   "outputs": [],
   "source": [
    "model_full_dataset = XGBClassifier()\n",
    "model_full_dataset.fit(X, y)"
   ]
  },
  {
   "cell_type": "code",
   "execution_count": null,
   "metadata": {},
   "outputs": [],
   "source": [
    "vectorized_text_train = tfidf_transformer.transform(vectorizer.transform(train['SentimentText'].as_matrix()))\n",
    "# y_pred_full_dataset = model.predict(vectorized_text_train)\n"
   ]
  },
  {
   "cell_type": "code",
   "execution_count": null,
   "metadata": {},
   "outputs": [],
   "source": [
    "predicted_full_dataset = model_full_dataset.predict(vectorized_text_train)"
   ]
  },
  {
   "cell_type": "markdown",
   "metadata": {},
   "source": [
    "Other topics which can be covered:\n",
    "- Compute lenvinstein distance\n",
    "- Clusterize\n",
    "- Add search by twitters similar to \n",
    "- Dimentionality reduction, e.g. https://github.com/lmcinnes/umap\n",
    "- Add validation dataset to prevent overfitting or K-fold validation"
   ]
  },
  {
   "cell_type": "code",
   "execution_count": null,
   "metadata": {},
   "outputs": [],
   "source": []
  }
 ],
 "metadata": {
  "kernelspec": {
   "display_name": "Python 3",
   "language": "python",
   "name": "python3"
  },
  "language_info": {
   "codemirror_mode": {
    "name": "ipython",
    "version": 3
   },
   "file_extension": ".py",
   "mimetype": "text/x-python",
   "name": "python",
   "nbconvert_exporter": "python",
   "pygments_lexer": "ipython3",
   "version": "3.6.4"
  }
 },
 "nbformat": 4,
 "nbformat_minor": 2
}
